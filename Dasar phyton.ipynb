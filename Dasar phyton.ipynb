Apa itu Phyton?
-Python merupakan bahasa pemrograman tingkat tinggi yang diracik oleh Guido van Rossum.

-Python banyak digunakan untuk membuat berbagai macam program, seperti: program CLI, Program GUI (desktop), Aplikasi Mobile, Web, IoT, Game, Program untuk Hacking, dsb.

-Python juga dikenal dengan bahasa pemrograman yang mudah dipelajari, karena struktur sintaknya rapi dan mudah dipahami.

Kenapa belajar Python?
-Cepat dan efektif
-Mudah dipelajari
-Banyak digunakan di perusahaan besar

Python Versi 2 vs Python Versi 3
Ada dua versi Python yang beredar saat ini, yaitu versi 2 dan 3.
Apa perbedaanya?
Python versi 2 merupakan versi yang banyak digunakan saat ini, baik dilingkungan produksi dan pengembangan.
Sementara Python versi 3 adalah pengembangan lanjutan dari versi 2. Python 3 memiliki lebih banyak fitur dibandingkan Python 2.
Untuk membuka Python 2 kita hanya menggunakan perintah python saja, sedangkan Python 3 menggunakan perintah python3.

Tipe Data pada Phyton

#tipe data Boolean

print(True)

#tipe data String

print("Ayo belajar Python")
print('Belajar Python Sangat Mudah')

#tipe data Integer

print(20)

#tipe data Float

print(3.14)

#tipe data Hexadecimal

print(9a)

#tipe data Complex

print(5j)

#tipe data List

print([1,2,3,4,5])
print(["satu", "dua", "tiga"])

#tipe data Tuple

print((1,2,3,4,5))
print(("satu", "dua", "tiga"))

#tipe data Dictionary

print({"nama":"Budi", 'umur':20})

#tipe data Dictionary dimasukan ke dalam variabel biodata

biodata = {"nama":"Andi", 'umur':21} #proses inisialisasi variabel biodata
print(biodata) #proses pencetakan variabel biodata yang berisi tipe data Dictionary
type(biodata) #fungsi untuk mengecek jenis tipe data. akan tampil <class 'dict'> yang berarti dict adalah tipe data dictionary

Aturan Penulisan Variabel

1.Nama variabel boleh diawali menggunakan huruf atau garis bawah (_), contoh: nama, _nama, namaKu, nama_variabel.

2.Karakter selanjutnya dapat berupa huruf, garis bawah (_) atau angka, contoh: __nama, n2, nilai1.

3.Karakter pada nama variabel bersifat sensitif (case-sensitif). Artinya huruf besar dan kecil dibedakan. Misalnya, variabel_Ku dan variabel_ku, keduanya adalah variabel yang berbeda.

4.Nama variabel tidak boleh menggunakan kata kunci yang sudah ada dalam python seperti if, while, for, dsb.

Variabel di python dapat dibuat dengan format seperti ini:

proses memasukan data ke dalam variabel

#proses mencetak variabel

nama = "M Taufiq Firmansyah"
print(nama)

